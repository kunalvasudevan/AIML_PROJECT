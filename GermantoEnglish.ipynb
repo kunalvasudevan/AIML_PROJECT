{
  "nbformat": 4,
  "nbformat_minor": 0,
  "metadata": {
    "colab": {
      "name": "GermantoEnglish.ipynb",
      "provenance": [],
      "collapsed_sections": [],
      "authorship_tag": "ABX9TyO88CPtHWQbxNKfu/pShGNp",
      "include_colab_link": true
    },
    "kernelspec": {
      "display_name": "Python 3",
      "name": "python3"
    },
    "language_info": {
      "name": "python"
    },
    "accelerator": "GPU"
  },
  "cells": [
    {
      "cell_type": "markdown",
      "metadata": {
        "id": "view-in-github",
        "colab_type": "text"
      },
      "source": [
        "<a href=\"https://colab.research.google.com/github/kunalvasudevan/AIML_PROJECT/blob/master/GermantoEnglish.ipynb\" target=\"_parent\"><img src=\"https://colab.research.google.com/assets/colab-badge.svg\" alt=\"Open In Colab\"/></a>"
      ]
    },
    {
      "cell_type": "markdown",
      "metadata": {
        "id": "qhDpnmifgmJR"
      },
      "source": [
        "#Internship Project\n",
        "#Language Translation(German to English)\n",
        "\n",
        "#Problem Statement:\n",
        "The objective of the project is to implement language\n",
        "translation model aka machine translation for converting\n",
        "German to English (and vice versa)\n",
        "For this, the data is a text file (.txt) of English-German sentence\n",
        "pairs. The actual data contains over 150,000 sentence-pairs.\n",
        "However, it is suggested to use only the first 50,000 sentence\n",
        "pairs to reduce the training time of the model.\n",
        "\n",
        "You can download the Data set from\n",
        "\n",
        "http://www.manythings.org/anki/\n",
        "\n",
        "#Text Pre-Processing\n",
        "Quite an important step in any project, especially so in NLP.\n",
        "The data we work with is more often than not unstructured so\n",
        "there are certain things we need to take care of before jumping\n",
        "to the model building part.\n",
        "\n",
        "(a) Text Cleaning\n",
        "\n",
        "(b) Text to Sequence Conversion\n",
        "\n",
        "A Seq2Seq model requires that we convert both the input and the output sentences into integer sequences of fixed length."
      ]
    },
    {
      "cell_type": "code",
      "metadata": {
        "id": "E8i8jZOh0TjE"
      },
      "source": [
        "import string\n",
        "import re\n",
        "from numpy import array,argmax,random,take\n",
        "import pandas as pd\n",
        "from keras.models import Sequential\n",
        "from keras.layers import Dense, LSTM, Embedding, Bidirectional, RepeatVector, TimeDistributed\n",
        "from keras.preprocessing.text import Tokenizer\n",
        "from keras.preprocessing.sequence import pad_sequences\n",
        "from keras.callbacks import ModelCheckpoint\n",
        "from keras import models    \n",
        "from keras.models import load_model\n",
        "from keras import optimizers\n",
        "import matplotlib.pyplot as plt\n",
        "%matplotlib inline\n",
        "pd.set_option('display.max_colwidth',200)"
      ],
      "execution_count": 3,
      "outputs": []
    },
    {
      "cell_type": "code",
      "metadata": {
        "id": "RdpYE6OJ1hN1"
      },
      "source": [
        "#function to read raw text file\n",
        "def read_text(filename):\n",
        "  #open the file\n",
        "  file = open(filename, mode='rt', encoding = 'utf-8')\n",
        "  #read all text\n",
        "  text = file.read()\n",
        "  file.close()\n",
        "  return text"
      ],
      "execution_count": 4,
      "outputs": []
    },
    {
      "cell_type": "code",
      "metadata": {
        "id": "jUy7xmiQ2u2P"
      },
      "source": [
        "#split a text into sentences\n",
        "def to_lines(text):\n",
        "  sents = text.strip().split('\\n')\n",
        "  sents= [i.split('\\t')for i in sents]\n",
        "  return sents"
      ],
      "execution_count": 5,
      "outputs": []
    },
    {
      "cell_type": "code",
      "metadata": {
        "id": "5UHtf4HH3Cco"
      },
      "source": [
        "data = read_text(\"/content/deuuu.txt\")\n",
        "deu_eng = to_lines(data)\n",
        "deu_eng = array(deu_eng)"
      ],
      "execution_count": 6,
      "outputs": []
    },
    {
      "cell_type": "code",
      "metadata": {
        "id": "-z8h4rWk3ZLQ"
      },
      "source": [
        "deu_eng = deu_eng[:50000,:]"
      ],
      "execution_count": 7,
      "outputs": []
    },
    {
      "cell_type": "code",
      "metadata": {
        "colab": {
          "base_uri": "https://localhost:8080/"
        },
        "id": "MA8FV2gs5rBR",
        "outputId": "a5745563-66d6-4f89-800b-ea16cb139b3e"
      },
      "source": [
        "#let's take a look at our data\n",
        "deu_eng"
      ],
      "execution_count": 8,
      "outputs": [
        {
          "output_type": "execute_result",
          "data": {
            "text/plain": [
              "array([['Go.', 'Geh.',\n",
              "        'CC-BY 2.0 (France) Attribution: tatoeba.org #2877272 (CM) & #8597805 (Roujin)'],\n",
              "       ['Hi.', 'Hallo!',\n",
              "        'CC-BY 2.0 (France) Attribution: tatoeba.org #538123 (CM) & #380701 (cburgmer)'],\n",
              "       ['Hi.', 'Grüß Gott!',\n",
              "        'CC-BY 2.0 (France) Attribution: tatoeba.org #538123 (CM) & #659813 (Esperantostern)'],\n",
              "       ...,\n",
              "       ['Tom and Mary already know each other.',\n",
              "        'Tom und Maria kennen einander bereits.',\n",
              "        'CC-BY 2.0 (France) Attribution: tatoeba.org #2955693 (CK) & #5080236 (Pfirsichbaeumchen)'],\n",
              "       ['Tom and Mary already know each other.',\n",
              "        'Tom und Maria kennen sich bereits.',\n",
              "        'CC-BY 2.0 (France) Attribution: tatoeba.org #2955693 (CK) & #7586699 (wolfgangth)'],\n",
              "       ['Tom and Mary always tease each other.',\n",
              "        'Tom und Maria necken sich immer.',\n",
              "        'CC-BY 2.0 (France) Attribution: tatoeba.org #8285232 (Hybrid) & #8285234 (Pfirsichbaeumchen)']],\n",
              "      dtype='<U110')"
            ]
          },
          "metadata": {
            "tags": []
          },
          "execution_count": 8
        }
      ]
    },
    {
      "cell_type": "code",
      "metadata": {
        "id": "_yOyjuI59OAk"
      },
      "source": [
        "# empty lists\n",
        "eng_1=[]\n",
        "deu_1=[]\n",
        "# populate the list with sentence lengths\n",
        "for i in deu_eng[:,0]:\n",
        "  eng_1.append(len(i.split()))\n",
        "  \n",
        "for i in deu_eng[:,1]:\n",
        "    deu_1.append(len(i.split()))"
      ],
      "execution_count": 9,
      "outputs": []
    },
    {
      "cell_type": "code",
      "metadata": {
        "id": "ALr_enPW68py"
      },
      "source": [
        "length_df = pd.DataFrame({'eng':eng_1, 'deu':deu_1})"
      ],
      "execution_count": 10,
      "outputs": []
    },
    {
      "cell_type": "code",
      "metadata": {
        "colab": {
          "base_uri": "https://localhost:8080/",
          "height": 281
        },
        "id": "sVW_e79AP8dA",
        "outputId": "1f6a35b1-79de-48ba-e700-11c00edf4798"
      },
      "source": [
        "length_df.hist(bins=30)\n",
        "plt.show()"
      ],
      "execution_count": 11,
      "outputs": [
        {
          "output_type": "display_data",
          "data": {
            "image/png": "[encoded data removed]",
            "text/plain": [
              "<Figure size 432x288 with 2 Axes>"
            ]
          },
          "metadata": {
            "tags": [],
            "needs_background": "light"
          }
        }
      ]
    },
    {
      "cell_type": "code",
      "metadata": {
        "id": "ihCs_YQuQ9SU"
      },
      "source": [
        "# Function to build a tokenizer\n",
        "def tokenization(lines):\n",
        "  tokenizer = Tokenizer()\n",
        "  tokenizer.fit_on_texts(lines)\n",
        "  return tokenizer"
      ],
      "execution_count": 12,
      "outputs": []
    },
    {
      "cell_type": "code",
      "metadata": {
        "colab": {
          "base_uri": "https://localhost:8080/"
        },
        "id": "VBwr2aEpRlBw",
        "outputId": "e1e4b0a0-67ad-40a6-b004-3b76da8faf35"
      },
      "source": [
        "#preare english tokenizer\n",
        "eng_tokenizer = tokenization(deu_eng[:,0])\n",
        "eng_vocab_size = len(eng_tokenizer.word_index)+1\n",
        "\n",
        "eng_length = 8\n",
        "print('English Vocabulary Size: %d'% eng_vocab_size)"
      ],
      "execution_count": 13,
      "outputs": [
        {
          "output_type": "stream",
          "text": [
            "English Vocabulary Size: 6935\n"
          ],
          "name": "stdout"
        }
      ]
    },
    {
      "cell_type": "code",
      "metadata": {
        "colab": {
          "base_uri": "https://localhost:8080/"
        },
        "id": "gAMycv4JSDpB",
        "outputId": "41a04198-8b63-4cd6-a43e-7828fda79be8"
      },
      "source": [
        "#prepare Deutch tokenizer\n",
        "deu_tokenizer = tokenization(deu_eng[:,1])\n",
        "deu_vocab_size = len(deu_tokenizer.word_index)+1\n",
        "\n",
        "deu_length = 8\n",
        "print('Deutch Vocabulary Size: %d'% deu_vocab_size)"
      ],
      "execution_count": 14,
      "outputs": [
        {
          "output_type": "stream",
          "text": [
            "Deutch Vocabulary Size: 11560\n"
          ],
          "name": "stdout"
        }
      ]
    },
    {
      "cell_type": "code",
      "metadata": {
        "id": "sCVe21hBTBKt"
      },
      "source": [
        "#encode and pad sequence\n",
        "def encode_sequences(tokenizer, length, lines):\n",
        "  #integer encode sequence\n",
        "  seq = tokenizer.texts_to_sequences(lines)\n",
        "  #pad sequence with 0 values\n",
        "  seq = pad_sequences(seq, maxlen = length, padding='post')\n",
        "  return seq"
      ],
      "execution_count": 15,
      "outputs": []
    },
    {
      "cell_type": "code",
      "metadata": {
        "id": "OXw_iRsDUAQo"
      },
      "source": [
        "from sklearn.model_selection import train_test_split\n",
        "train, test  = train_test_split(deu_eng, test_size=0.2, random_state = 12)"
      ],
      "execution_count": 16,
      "outputs": []
    },
    {
      "cell_type": "code",
      "metadata": {
        "id": "kGwQvP8YUXXD"
      },
      "source": [
        "#prepare training data\n",
        "trainX = encode_sequences(deu_tokenizer, deu_length, train[:, 1])\n",
        "trainY = encode_sequences(eng_tokenizer, eng_length, train[:,0])"
      ],
      "execution_count": 17,
      "outputs": []
    },
    {
      "cell_type": "code",
      "metadata": {
        "id": "9vKZwK1HSGY0"
      },
      "source": [
        "#prepare validation data\n",
        "testX = encode_sequences(deu_tokenizer, deu_length, train[:, 1])\n",
        "testY = encode_sequences(eng_tokenizer, eng_length, train[:,0])"
      ],
      "execution_count": 18,
      "outputs": []
    },
    {
      "cell_type": "code",
      "metadata": {
        "id": "fa80Js51WOr1"
      },
      "source": [
        "# build NMT model\n",
        "def build_model(in_vocab, out_vocab, in_timesteps, out_timesteps, units):\n",
        "  model = Sequential()\n",
        "  model.add(Embedding(in_vocab, units, input_length=in_timesteps, mask_zero=True))\n",
        "  model.add(LSTM(units))\n",
        "  model.add(RepeatVector(out_timesteps))\n",
        "  model.add(LSTM(units, return_sequences=True))\n",
        "  model.add(Dense(out_vocab, activation='softmax'))\n",
        "  return model"
      ],
      "execution_count": 19,
      "outputs": []
    },
    {
      "cell_type": "code",
      "metadata": {
        "colab": {
          "base_uri": "https://localhost:8080/"
        },
        "id": "0hDCfmERX0t8",
        "outputId": "7a6b6c55-1a5b-458f-835b-c29286bef006"
      },
      "source": [
        "model = build_model(deu_vocab_size, eng_vocab_size, deu_length, eng_length, 512)\n",
        "rms = optimizers.RMSprop(lr=0.001)\n",
        "#model.compile(loss='sparse_categorial_crossentropy', optimizers=rms)\n",
        "model.compile(optimizer=rms, loss='sparse_categorical_crossentropy', metrics=None)"
      ],
      "execution_count": 20,
      "outputs": [
        {
          "output_type": "stream",
          "text": [
            "/usr/local/lib/python3.7/dist-packages/tensorflow/python/keras/optimizer_v2/optimizer_v2.py:375: UserWarning: The `lr` argument is deprecated, use `learning_rate` instead.\n",
            "  \"The `lr` argument is deprecated, use `learning_rate` instead.\")\n"
          ],
          "name": "stderr"
        }
      ]
    },
    {
      "cell_type": "code",
      "metadata": {
        "colab": {
          "base_uri": "https://localhost:8080/"
        },
        "id": "RukWOMLzYipb",
        "outputId": "fe9fb09c-d5de-4358-a52f-c23d4da75307"
      },
      "source": [
        "filename = 'model.Kunal'\n",
        "Checkpoint = ModelCheckpoint(filename, monitor= 'val_loss', verbose=1, save_best_only=True, mode='min')\n",
        "history = model.fit(trainX, trainY.reshape(trainY.shape[0], trainY.shape[1], 1),\n",
        "                   epochs=5, batch_size=512,\n",
        "                   validation_split = 0.5,\n",
        "                   callbacks=[Checkpoint], verbose=1)"
      ],
      "execution_count": 21,
      "outputs": [
        {
          "output_type": "stream",
          "text": [
            "Epoch 1/5\n",
            "19/19 [==============================] - 33s 307ms/step - loss: 6.8425 - val_loss: 4.9915\n",
            "\n",
            "Epoch 00001: val_loss improved from inf to 4.99149, saving model to model.Kunal\n"
          ],
          "name": "stdout"
        },
        {
          "output_type": "stream",
          "text": [
            "WARNING:absl:Found untraced functions such as lstm_cell_layer_call_and_return_conditional_losses, lstm_cell_layer_call_fn, lstm_cell_1_layer_call_and_return_conditional_losses, lstm_cell_1_layer_call_fn, lstm_cell_layer_call_fn while saving (showing 5 of 10). These functions will not be directly callable after loading.\n"
          ],
          "name": "stderr"
        },
        {
          "output_type": "stream",
          "text": [
            "INFO:tensorflow:Assets written to: model.Kunal/assets\n"
          ],
          "name": "stdout"
        },
        {
          "output_type": "stream",
          "text": [
            "INFO:tensorflow:Assets written to: model.Kunal/assets\n"
          ],
          "name": "stderr"
        },
        {
          "output_type": "stream",
          "text": [
            "Epoch 2/5\n",
            "19/19 [==============================] - 4s 189ms/step - loss: 4.8591 - val_loss: 4.8347\n",
            "\n",
            "Epoch 00002: val_loss improved from 4.99149 to 4.83471, saving model to model.Kunal\n"
          ],
          "name": "stdout"
        },
        {
          "output_type": "stream",
          "text": [
            "WARNING:absl:Found untraced functions such as lstm_cell_layer_call_and_return_conditional_losses, lstm_cell_layer_call_fn, lstm_cell_1_layer_call_and_return_conditional_losses, lstm_cell_1_layer_call_fn, lstm_cell_layer_call_fn while saving (showing 5 of 10). These functions will not be directly callable after loading.\n"
          ],
          "name": "stderr"
        },
        {
          "output_type": "stream",
          "text": [
            "INFO:tensorflow:Assets written to: model.Kunal/assets\n"
          ],
          "name": "stdout"
        },
        {
          "output_type": "stream",
          "text": [
            "INFO:tensorflow:Assets written to: model.Kunal/assets\n"
          ],
          "name": "stderr"
        },
        {
          "output_type": "stream",
          "text": [
            "Epoch 3/5\n",
            "19/19 [==============================] - 4s 188ms/step - loss: 4.7172 - val_loss: 4.7831\n",
            "\n",
            "Epoch 00003: val_loss improved from 4.83471 to 4.78306, saving model to model.Kunal\n"
          ],
          "name": "stdout"
        },
        {
          "output_type": "stream",
          "text": [
            "WARNING:absl:Found untraced functions such as lstm_cell_layer_call_and_return_conditional_losses, lstm_cell_layer_call_fn, lstm_cell_1_layer_call_and_return_conditional_losses, lstm_cell_1_layer_call_fn, lstm_cell_layer_call_fn while saving (showing 5 of 10). These functions will not be directly callable after loading.\n"
          ],
          "name": "stderr"
        },
        {
          "output_type": "stream",
          "text": [
            "INFO:tensorflow:Assets written to: model.Kunal/assets\n"
          ],
          "name": "stdout"
        },
        {
          "output_type": "stream",
          "text": [
            "INFO:tensorflow:Assets written to: model.Kunal/assets\n"
          ],
          "name": "stderr"
        },
        {
          "output_type": "stream",
          "text": [
            "Epoch 4/5\n",
            "19/19 [==============================] - 4s 189ms/step - loss: 4.6311 - val_loss: 4.7652\n",
            "\n",
            "Epoch 00004: val_loss improved from 4.78306 to 4.76517, saving model to model.Kunal\n"
          ],
          "name": "stdout"
        },
        {
          "output_type": "stream",
          "text": [
            "WARNING:absl:Found untraced functions such as lstm_cell_layer_call_and_return_conditional_losses, lstm_cell_layer_call_fn, lstm_cell_1_layer_call_and_return_conditional_losses, lstm_cell_1_layer_call_fn, lstm_cell_layer_call_fn while saving (showing 5 of 10). These functions will not be directly callable after loading.\n"
          ],
          "name": "stderr"
        },
        {
          "output_type": "stream",
          "text": [
            "INFO:tensorflow:Assets written to: model.Kunal/assets\n"
          ],
          "name": "stdout"
        },
        {
          "output_type": "stream",
          "text": [
            "INFO:tensorflow:Assets written to: model.Kunal/assets\n"
          ],
          "name": "stderr"
        },
        {
          "output_type": "stream",
          "text": [
            "Epoch 5/5\n",
            "19/19 [==============================] - 3s 186ms/step - loss: 4.5827 - val_loss: 4.7524\n",
            "\n",
            "Epoch 00005: val_loss improved from 4.76517 to 4.75242, saving model to model.Kunal\n"
          ],
          "name": "stdout"
        },
        {
          "output_type": "stream",
          "text": [
            "WARNING:absl:Found untraced functions such as lstm_cell_layer_call_and_return_conditional_losses, lstm_cell_layer_call_fn, lstm_cell_1_layer_call_and_return_conditional_losses, lstm_cell_1_layer_call_fn, lstm_cell_layer_call_fn while saving (showing 5 of 10). These functions will not be directly callable after loading.\n"
          ],
          "name": "stderr"
        },
        {
          "output_type": "stream",
          "text": [
            "INFO:tensorflow:Assets written to: model.Kunal/assets\n"
          ],
          "name": "stdout"
        },
        {
          "output_type": "stream",
          "text": [
            "INFO:tensorflow:Assets written to: model.Kunal/assets\n"
          ],
          "name": "stderr"
        }
      ]
    },
    {
      "cell_type": "markdown",
      "metadata": {
        "id": "3ii2iSrjiSUm"
      },
      "source": [
        "#Acurracy Rate is 4.5827 where as loss is 4.7524"
      ]
    },
    {
      "cell_type": "code",
      "metadata": {
        "id": "xqSFle5OeNG5",
        "colab": {
          "base_uri": "https://localhost:8080/",
          "height": 265
        },
        "outputId": "74f86daa-3414-4e85-b6f2-fa5d9a60bd0c"
      },
      "source": [
        "plt.plot(history.history['loss'])\n",
        "plt.plot(history.history['val_loss'])\n",
        "plt.legend(['train','validation'])\n",
        "plt.show()"
      ],
      "execution_count": 22,
      "outputs": [
        {
          "output_type": "display_data",
          "data": {
            "image/png": "[encoded data removed]",
            "text/plain": [
              "<Figure size 432x288 with 1 Axes>"
            ]
          },
          "metadata": {
            "tags": [],
            "needs_background": "light"
          }
        }
      ]
    },
    {
      "cell_type": "code",
      "metadata": {
        "colab": {
          "base_uri": "https://localhost:8080/"
        },
        "id": "MmHsdqbUz7RL",
        "outputId": "e12620f6-44a9-4578-8834-2fe091c59a47"
      },
      "source": [
        "model = load_model('model.Kunal')\n",
        "preds = model.predict_classes(testX.reshape((testX.shape[0],testX.shape[1])))"
      ],
      "execution_count": 23,
      "outputs": [
        {
          "output_type": "stream",
          "text": [
            "/usr/local/lib/python3.7/dist-packages/keras/engine/sequential.py:450: UserWarning: `model.predict_classes()` is deprecated and will be removed after 2021-01-01. Please use instead:* `np.argmax(model.predict(x), axis=-1)`,   if your model does multi-class classification   (e.g. if it uses a `softmax` last-layer activation).* `(model.predict(x) > 0.5).astype(\"int32\")`,   if your model does binary classification   (e.g. if it uses a `sigmoid` last-layer activation).\n",
            "  warnings.warn('`model.predict_classes()` is deprecated and '\n"
          ],
          "name": "stderr"
        }
      ]
    },
    {
      "cell_type": "code",
      "metadata": {
        "id": "GGCht9UM0dpY"
      },
      "source": [
        "def get_word(n, tokenizer):\n",
        "  for word, index in tokenizer.word_index.items():\n",
        "    if index == n:\n",
        "      return word\n",
        "      return None"
      ],
      "execution_count": 24,
      "outputs": []
    },
    {
      "cell_type": "code",
      "metadata": {
        "id": "Repw3QS1UK8a"
      },
      "source": [
        "#convert predictions into text (english)\n",
        "preds_text = []\n",
        "for i in preds:\n",
        "  temp = []\n",
        "  for j in range(len(i)):\n",
        "    t=get_word(i[j], eng_tokenizer)\n",
        "    if j>0:\n",
        "      if (t == get_word(i[j-1], eng_tokenizer)) or (t== None):\n",
        "        temp.append('')\n",
        "      else:\n",
        "        temp.append(t)\n",
        "          \n",
        "    else:\n",
        "      if(t==None):\n",
        "        temp.append('')\n",
        "      else:\n",
        "        temp.append(t)\n",
        "\n",
        "        preds_text.append(''.join(temp))"
      ],
      "execution_count": 25,
      "outputs": []
    },
    {
      "cell_type": "code",
      "metadata": {
        "id": "Stx7cb3igg8V"
      },
      "source": [
        "pred_df = pd.DataFrame({'actual': test[:,0], 'predicted': preds_text})"
      ],
      "execution_count": null,
      "outputs": []
    },
    {
      "cell_type": "code",
      "metadata": {
        "id": "m0d7rfSMd3fh"
      },
      "source": [
        "pd.set_option('display.max_clowidth', 200)"
      ],
      "execution_count": null,
      "outputs": []
    }
  ]
}